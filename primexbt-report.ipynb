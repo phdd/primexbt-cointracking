{
 "cells": [
  {
   "cell_type": "code",
   "execution_count": null,
   "metadata": {
    "tags": []
   },
   "outputs": [],
   "source": [
    "report_url = input('PrimeXBT Report URL')\n",
    "trade_group = input('Trade Group')"
   ]
  },
  {
   "cell_type": "code",
   "execution_count": null,
   "metadata": {},
   "outputs": [],
   "source": [
    "import pandas as pd\n",
    "\n",
    "html = pd.read_html(report_url)"
   ]
  },
  {
   "cell_type": "code",
   "execution_count": null,
   "metadata": {},
   "outputs": [],
   "source": [
    "import numpy as np\n",
    "\n",
    "df_prime = html[-1]\n",
    "df_prime.columns = df_prime.columns\\\n",
    "    .str.strip()\\\n",
    "    .str.replace(r'[\\W]', '_')\\\n",
    "    .str.replace(r'___UTC_', '')\n",
    "\n",
    "df_prime = df_prime.replace('—', np.nan)\n",
    "df_prime['Exit_Transfer_Time'] = pd.to_datetime(df_prime.Exit_Transfer_Time, format='%d/%m/%Y %H:%M')"
   ]
  },
  {
   "cell_type": "code",
   "execution_count": null,
   "metadata": {},
   "outputs": [],
   "source": [
    "df_cointracking = pd.DataFrame(columns=[\n",
    "    'Type', 'Buy Amount', 'Buy Cur.', 'Sell Amount', 'Sell Cur.',\n",
    "    'Fee Amount', 'Fee Cur.', 'Exchange', 'Trade Group', 'Comment',\n",
    "    'Date', 'Liquidity Pool'])\n",
    "\n",
    "for index, row in df_prime.iterrows():\n",
    "    entry = dict(\n",
    "        Exchange='PrimeXBT Margin',\n",
    "        Date=row.Exit_Transfer_Time,\n",
    "        Comment=row.Comment)\n",
    "\n",
    "    entry_wallet = dict(\n",
    "        Exchange='PrimeXBT Wallet',\n",
    "        Date=row.Exit_Transfer_Time,\n",
    "        Comment=row.Comment)\n",
    "\n",
    "    if row.Entry_time in ['TRADE COMMISSION', 'FINANCING']:\n",
    "        entry['Type'] = 'Margin Fee' if row.Entry_time == 'TRADE COMMISSION' else 'Borrowing Fee'\n",
    "        entry['Sell Amount'] = abs(row.Profit_Loss)\n",
    "        entry['Sell Cur.'] = 'USDT'\n",
    "\n",
    "    elif row.Entry_time == 'DEPOSIT':\n",
    "        entry['Type'] = 'Deposit'\n",
    "        entry['Buy Amount'] = row.Profit_Loss\n",
    "        entry['Buy Cur.'] = 'USDT'\n",
    "\n",
    "        entry_wallet['Type'] = 'Withdrawal'\n",
    "        entry_wallet['Sell Amount'] = abs(row.Profit_Loss)\n",
    "        entry_wallet['Sell Cur.'] = 'USDT'\n",
    "\n",
    "    elif row.Entry_time == 'WITHDRAWAL':\n",
    "        entry['Type'] = 'Withdrawal'\n",
    "        entry['Sell Amount'] = abs(row.Profit_Loss)\n",
    "        entry['Sell Cur.'] = 'USDT'\n",
    "\n",
    "        entry_wallet['Type'] = 'Deposit'\n",
    "        entry_wallet['Buy Amount'] = abs(row.Profit_Loss)\n",
    "        entry_wallet['Buy Cur.'] = 'USDT'\n",
    "\n",
    "    elif row.Profit_Loss > 0:\n",
    "        entry['Type'] = 'Derivatives / Futures Profit'\n",
    "        entry['Buy Amount'] = abs(row.Profit_Loss)\n",
    "        entry['Buy Cur.'] = 'USDT'\n",
    "\n",
    "    elif row.Profit_Loss < 0:\n",
    "        entry['Type'] = 'Derivatives / Futures Loss'\n",
    "        entry['Sell Amount'] = abs(row.Profit_Loss)\n",
    "        entry['Sell Cur.'] = 'USDT'\n",
    "\n",
    "    df_cointracking = pd.concat([\n",
    "        df_cointracking,\n",
    "        pd.DataFrame.from_records([entry])])\n",
    "\n",
    "    if row.Entry_time in ['WITHDRAWAL', 'DEPOSIT']:\n",
    "        df_cointracking = pd.concat([\n",
    "            df_cointracking,\n",
    "            pd.DataFrame.from_records([entry_wallet])])\n",
    "\n",
    "df_cointracking = df_cointracking.fillna('')\n",
    "df_cointracking['Date'] = df_cointracking.Date.dt.strftime('%d-%m-%Y %H:%M:%S')\n",
    "df_cointracking.to_excel('CoinTracking_Excel_Import.xls', index=False)\n",
    "df_cointracking"
   ]
  }
 ],
 "metadata": {
  "kernelspec": {
   "display_name": "Python 3",
   "language": "python",
   "name": "python3"
  },
  "language_info": {
   "codemirror_mode": {
    "name": "ipython",
    "version": 3
   },
   "file_extension": ".py",
   "mimetype": "text/x-python",
   "name": "python",
   "nbconvert_exporter": "python",
   "pygments_lexer": "ipython3",
   "version": "3.10.9"
  },
  "orig_nbformat": 4,
  "vscode": {
   "interpreter": {
    "hash": "949777d72b0d2535278d3dc13498b2535136f6dfe0678499012e853ee9abcab1"
   }
  }
 },
 "nbformat": 4,
 "nbformat_minor": 2
}
